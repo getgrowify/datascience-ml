{
 "metadata": {
  "language_info": {
   "codemirror_mode": {
    "name": "ipython",
    "version": 3
   },
   "file_extension": ".py",
   "mimetype": "text/x-python",
   "name": "python",
   "nbconvert_exporter": "python",
   "pygments_lexer": "ipython3",
   "version": "3.6.12"
  },
  "orig_nbformat": 2,
  "kernelspec": {
   "name": "python3612jvsc74a57bd0fefd83eafc0c2f3c8796de3f6632c2698dc12eafcdd46e5a8c965eb3d21b0b49",
   "display_name": "Python 3.6.12 64-bit ('env0': conda)"
  }
 },
 "nbformat": 4,
 "nbformat_minor": 2,
 "cells": [
  {
   "source": [
    "**Summary**: built data for the environment rating model by simulating arduino readings iterated 250 times."
   ],
   "cell_type": "markdown",
   "metadata": {}
  },
  {
   "cell_type": "code",
   "execution_count": 1,
   "metadata": {},
   "outputs": [],
   "source": [
    "import pandas as pd \n",
    "import matplotlib.pyplot as plt \n",
    "import random"
   ]
  },
  {
   "cell_type": "code",
   "execution_count": 2,
   "metadata": {},
   "outputs": [],
   "source": [
    "df = pd.DataFrame(columns=['Temperature (°C)', 'Soil Moisture (%)', 'Humidity (%)', 'Environment Rating'])"
   ]
  },
  {
   "cell_type": "code",
   "execution_count": 3,
   "metadata": {},
   "outputs": [
    {
     "output_type": "execute_result",
     "data": {
      "text/plain": [
       "0"
      ]
     },
     "metadata": {},
     "execution_count": 3
    }
   ],
   "source": [
    "df.shape[0]"
   ]
  },
  {
   "cell_type": "code",
   "execution_count": 4,
   "metadata": {},
   "outputs": [],
   "source": [
    "def error(rec, acc):\n",
    "    avg = (rec + acc) / 2\n",
    "    dif = (1 - (abs(rec - acc) / avg))\n",
    "    return dif"
   ]
  },
  {
   "cell_type": "code",
   "execution_count": 5,
   "metadata": {},
   "outputs": [],
   "source": [
    "def create_data(temp, soil, hum):\n",
    "    env = random.randrange(31,33) * error(temp, 21) + random.randrange(31,33) * error(soil, 40) + random.randrange(31,33) * error(hum, 60)\n",
    "    print('Environment Rating:', env)\n",
    "    global df\n",
    "    df = df.append({'Temperature (°C)': temp, 'Soil Moisture (%)': soil, 'Humidity (%)': hum, 'Environment Rating': env}, ignore_index=True)"
   ]
  },
  {
   "cell_type": "code",
   "execution_count": 6,
   "metadata": {},
   "outputs": [
    {
     "output_type": "stream",
     "name": "stdout",
     "text": [
      "Environment Rating: 96.0\n"
     ]
    }
   ],
   "source": [
    "create_data(21,40,60)"
   ]
  },
  {
   "cell_type": "code",
   "execution_count": 7,
   "metadata": {},
   "outputs": [
    {
     "output_type": "execute_result",
     "data": {
      "text/plain": [
       "   Temperature (°C)  Soil Moisture (%)  Humidity (%)  Environment Rating\n",
       "0              21.0               40.0          60.0                96.0"
      ],
      "text/html": "<div>\n<style scoped>\n    .dataframe tbody tr th:only-of-type {\n        vertical-align: middle;\n    }\n\n    .dataframe tbody tr th {\n        vertical-align: top;\n    }\n\n    .dataframe thead th {\n        text-align: right;\n    }\n</style>\n<table border=\"1\" class=\"dataframe\">\n  <thead>\n    <tr style=\"text-align: right;\">\n      <th></th>\n      <th>Temperature (°C)</th>\n      <th>Soil Moisture (%)</th>\n      <th>Humidity (%)</th>\n      <th>Environment Rating</th>\n    </tr>\n  </thead>\n  <tbody>\n    <tr>\n      <th>0</th>\n      <td>21.0</td>\n      <td>40.0</td>\n      <td>60.0</td>\n      <td>96.0</td>\n    </tr>\n  </tbody>\n</table>\n</div>"
     },
     "metadata": {},
     "execution_count": 7
    }
   ],
   "source": [
    "df"
   ]
  },
  {
   "cell_type": "code",
   "execution_count": 8,
   "metadata": {},
   "outputs": [],
   "source": [
    "def test_add_data(temp, soil, hum):\n",
    "    env = random.randrange(30,33) * error(temp, 21) + random.randrange(30,33) * error(soil, 40) + random.randrange(30,33) * error(hum, 60)\n",
    "    print('Environment Rating:', env)"
   ]
  },
  {
   "cell_type": "code",
   "execution_count": 9,
   "metadata": {},
   "outputs": [
    {
     "output_type": "stream",
     "name": "stdout",
     "text": [
      "Environment Rating: 58.67699088108891\n",
      "Environment Rating: 73.44744787922357\n",
      "Environment Rating: 64.75439006164768\n",
      "Environment Rating: 48.07168831168831\n",
      "Environment Rating: 31.09083082221266\n",
      "Environment Rating: 54.674348032242776\n",
      "Environment Rating: 64.7390156062425\n",
      "Environment Rating: 65.23963599595551\n",
      "Environment Rating: 67.80026508384717\n",
      "Environment Rating: 70.93797669935462\n",
      "Environment Rating: 67.2679915828852\n",
      "Environment Rating: 56.03136026567542\n",
      "Environment Rating: 71.74810030395136\n",
      "Environment Rating: 64.35588566600958\n",
      "Environment Rating: 57.07160974671523\n",
      "Environment Rating: 68.97809581401599\n",
      "Environment Rating: 68.69368723098995\n",
      "Environment Rating: 60.05449628127113\n",
      "Environment Rating: 86.7359269723973\n",
      "Environment Rating: 22.418831168831172\n",
      "Environment Rating: 71.61759286662148\n",
      "Environment Rating: 53.44552382821444\n",
      "Environment Rating: 62.49422006564863\n",
      "Environment Rating: 55.88676158584904\n",
      "Environment Rating: 8.040102016846205\n",
      "Environment Rating: 71.01744356017541\n",
      "Environment Rating: 78.33684210526316\n",
      "Environment Rating: 78.53169800781977\n",
      "Environment Rating: 68.65641569459173\n",
      "Environment Rating: 74.71090629800308\n",
      "Environment Rating: 65.67468175388967\n",
      "Environment Rating: 74.51343283582091\n",
      "Environment Rating: 60.850629755969564\n",
      "Environment Rating: 25.11859649122807\n",
      "Environment Rating: 56.87402157164868\n",
      "Environment Rating: 63.07403183654075\n",
      "Environment Rating: 55.95976169017551\n",
      "Environment Rating: 55.21274369791709\n",
      "Environment Rating: 26.18684918684919\n",
      "Environment Rating: 60.451682618092\n",
      "Environment Rating: 48.003891701518825\n",
      "Environment Rating: 61.6359292881032\n",
      "Environment Rating: 65.56534456534456\n",
      "Environment Rating: 76.38436932024719\n",
      "Environment Rating: 63.46775510204081\n",
      "Environment Rating: 53.420608849930616\n",
      "Environment Rating: 69.20091848450058\n",
      "Environment Rating: 47.51851851851852\n",
      "Environment Rating: 18.867878787878787\n",
      "Environment Rating: 49.849816849816854\n",
      "Environment Rating: 78.4201191912195\n",
      "Environment Rating: 66.3608783514178\n",
      "Environment Rating: 56.640148429722146\n",
      "Environment Rating: 61.515151515151516\n",
      "Environment Rating: 69.48146109440938\n",
      "Environment Rating: 43.311544102241776\n",
      "Environment Rating: 47.947052947052946\n",
      "Environment Rating: 61.86465696465696\n",
      "Environment Rating: 70.73995271867612\n",
      "Environment Rating: 60.95238095238095\n",
      "Environment Rating: 86.62633301657692\n",
      "Environment Rating: 50.073906485671195\n",
      "Environment Rating: 66.61436763300414\n",
      "Environment Rating: 50.440073613986655\n",
      "Environment Rating: 64.64636817664066\n",
      "Environment Rating: 27.707078507078513\n",
      "Environment Rating: 52.462666282752664\n",
      "Environment Rating: 75.99781557185207\n",
      "Environment Rating: 71.87533708915174\n",
      "Environment Rating: 79.77443609022556\n",
      "Environment Rating: 38.33668361489257\n",
      "Environment Rating: 64.59451659451659\n",
      "Environment Rating: 52.76423709517235\n",
      "Environment Rating: 68.67235772357724\n",
      "Environment Rating: 29.629685383110036\n",
      "Environment Rating: 49.78881893248749\n",
      "Environment Rating: 77.73695107333552\n",
      "Environment Rating: 69.2197707116591\n",
      "Environment Rating: 49.403400318262214\n",
      "Environment Rating: 34.82637159325411\n",
      "Environment Rating: 61.15772219125988\n",
      "Environment Rating: 56.62181818181818\n",
      "Environment Rating: 15.025415444770278\n",
      "Environment Rating: 39.94565217391305\n",
      "Environment Rating: 66.09253779610316\n",
      "Environment Rating: 69.28315789473685\n",
      "Environment Rating: 37.312081915448054\n",
      "Environment Rating: 57.964604023427555\n",
      "Environment Rating: 36.88695652173914\n",
      "Environment Rating: 61.94733328564957\n",
      "Environment Rating: 43.17094017094017\n",
      "Environment Rating: 27.709090909090907\n",
      "Environment Rating: 38.662893081761005\n",
      "Environment Rating: 46.12413793103448\n",
      "Environment Rating: 69.83218678340629\n",
      "Environment Rating: 45.56015473887814\n",
      "Environment Rating: 46.6073331611934\n",
      "Environment Rating: 57.07603851257102\n",
      "Environment Rating: 70.02726560103609\n",
      "Environment Rating: 26.429272349272345\n",
      "Environment Rating: 19.675510204081633\n",
      "Environment Rating: 72.13955977687321\n",
      "Environment Rating: 44.99490152359717\n",
      "Environment Rating: 61.24847714695634\n",
      "Environment Rating: 76.20598006644518\n",
      "Environment Rating: 51.93910395824271\n",
      "Environment Rating: 61.383721488595434\n",
      "Environment Rating: 53.086448551942276\n",
      "Environment Rating: 50.63981859410431\n",
      "Environment Rating: 51.520522802332934\n",
      "Environment Rating: 66.99237699237699\n",
      "Environment Rating: 53.027272727272724\n",
      "Environment Rating: 32.40354556947477\n",
      "Environment Rating: 74.70538415003024\n",
      "Environment Rating: 52.981632653061226\n",
      "Environment Rating: 40.116551541455266\n",
      "Environment Rating: 79.56560707181642\n",
      "Environment Rating: 59.57765455518264\n",
      "Environment Rating: 41.57929707990908\n",
      "Environment Rating: -6.70925470925471\n",
      "Environment Rating: 65.01325478645066\n",
      "Environment Rating: 46.56410256410256\n",
      "Environment Rating: 58.15911949685535\n",
      "Environment Rating: 53.28559929163649\n",
      "Environment Rating: 38.88626847816799\n",
      "Environment Rating: 66.15447154471545\n",
      "Environment Rating: 37.45003353454058\n",
      "Environment Rating: 75.6008658008658\n",
      "Environment Rating: 53.204897959183675\n",
      "Environment Rating: 36.34601832276251\n",
      "Environment Rating: 43.06675780359991\n",
      "Environment Rating: 52.86073656327438\n",
      "Environment Rating: 65.21980676328502\n",
      "Environment Rating: 41.10211357270181\n",
      "Environment Rating: 43.601237936974975\n",
      "Environment Rating: 48.8328335832084\n",
      "Environment Rating: 40.03081232492997\n",
      "Environment Rating: 67.24391074774314\n",
      "Environment Rating: 46.39983001869794\n",
      "Environment Rating: 73.69245947850598\n",
      "Environment Rating: 77.45507433742728\n",
      "Environment Rating: 69.72551056506089\n",
      "Environment Rating: 56.55955830677847\n",
      "Environment Rating: 56.010660980810236\n",
      "Environment Rating: 64.85396825396825\n",
      "Environment Rating: 54.04502164502165\n",
      "Environment Rating: 62.69307508972898\n",
      "Environment Rating: 37.13526570048309\n",
      "Environment Rating: 50.43993937097385\n",
      "Environment Rating: 44.397202797202794\n",
      "Environment Rating: 20.96969696969697\n",
      "Environment Rating: 78.17890881048775\n",
      "Environment Rating: 74.09003074220466\n",
      "Environment Rating: 80.45998445998447\n",
      "Environment Rating: 13.184278525771793\n",
      "Environment Rating: 61.934413956970346\n",
      "Environment Rating: 68.68854604955587\n",
      "Environment Rating: 70.91676408697685\n",
      "Environment Rating: 45.71820071820071\n",
      "Environment Rating: 74.31666854333221\n",
      "Environment Rating: 74.39680230524976\n",
      "Environment Rating: 58.311564625850345\n",
      "Environment Rating: 78.38481338481338\n",
      "Environment Rating: 53.759681697612734\n",
      "Environment Rating: 22.588561673068718\n",
      "Environment Rating: 59.972477064220186\n",
      "Environment Rating: 60.90835330997602\n",
      "Environment Rating: 56.438461538461546\n",
      "Environment Rating: 33.67824318671461\n",
      "Environment Rating: 64.12757154350075\n",
      "Environment Rating: 59.99716392512762\n",
      "Environment Rating: 59.760765550239235\n",
      "Environment Rating: 72.16786207558539\n",
      "Environment Rating: 24.178410794602705\n",
      "Environment Rating: 56.095807050092766\n",
      "Environment Rating: 76.84978328173375\n",
      "Environment Rating: 26.955223880597018\n",
      "Environment Rating: 47.7672469374597\n",
      "Environment Rating: 76.33827216776841\n",
      "Environment Rating: 53.28303275671696\n",
      "Environment Rating: 64.9200718455321\n",
      "Environment Rating: 78.84672742336372\n",
      "Environment Rating: 34.10380116959064\n",
      "Environment Rating: 61.63387978142077\n",
      "Environment Rating: 72.77623446072644\n",
      "Environment Rating: 51.68798501471768\n",
      "Environment Rating: 34.74215639433031\n",
      "Environment Rating: 46.55376275069369\n",
      "Environment Rating: 63.058363858363855\n",
      "Environment Rating: 67.48018136609625\n",
      "Environment Rating: 44.47110995174123\n",
      "Environment Rating: 67.89992207900356\n",
      "Environment Rating: 71.5768115942029\n",
      "Environment Rating: 38.73633872976338\n",
      "Environment Rating: 32.257102934326966\n",
      "Environment Rating: 52.038221368283814\n",
      "Environment Rating: 62.05066720856195\n",
      "Environment Rating: 66.06064601186551\n",
      "Environment Rating: 49.267988951630386\n",
      "Environment Rating: 64.68705920944727\n",
      "Environment Rating: 68.65716170813809\n",
      "Environment Rating: 81.6139986139986\n",
      "Environment Rating: 65.33580705009277\n",
      "Environment Rating: 60.654395963748485\n",
      "Environment Rating: 67.32232680910404\n",
      "Environment Rating: 45.1256157635468\n",
      "Environment Rating: 77.81923344947735\n",
      "Environment Rating: 53.71708502024292\n",
      "Environment Rating: 71.28593985102074\n",
      "Environment Rating: 73.21956840561492\n",
      "Environment Rating: 53.34974323861691\n",
      "Environment Rating: 60.4958221068619\n",
      "Environment Rating: 53.94126475779771\n",
      "Environment Rating: 61.652312599681025\n",
      "Environment Rating: 55.944917151813705\n",
      "Environment Rating: 54.15431266846362\n",
      "Environment Rating: 49.3465837114956\n",
      "Environment Rating: 58.36280231495583\n",
      "Environment Rating: 58.12690262240967\n",
      "Environment Rating: 57.431564823117185\n",
      "Environment Rating: 62.52750397456279\n",
      "Environment Rating: 64.89478027645967\n",
      "Environment Rating: 8.515089514066501\n",
      "Environment Rating: 31.16992577220848\n",
      "Environment Rating: 48.22637238256932\n",
      "Environment Rating: 82.45196097434903\n",
      "Environment Rating: 57.882869852957285\n",
      "Environment Rating: 24.156904552865925\n",
      "Environment Rating: 59.83059296593132\n",
      "Environment Rating: 6.477470355731228\n",
      "Environment Rating: 79.69885433715221\n",
      "Environment Rating: 29.838682521309067\n",
      "Environment Rating: 40.92177589852008\n",
      "Environment Rating: 46.0356170123612\n",
      "Environment Rating: 60.70518518518519\n",
      "Environment Rating: 64.63104371097235\n",
      "Environment Rating: 65.93939393939394\n",
      "Environment Rating: 39.001287001287004\n",
      "Environment Rating: 74.48888888888888\n",
      "Environment Rating: 69.36398772948583\n",
      "Environment Rating: 20.23272727272727\n",
      "Environment Rating: 60.28564686449177\n",
      "Environment Rating: 35.92662830840046\n",
      "Environment Rating: 70.55139683742448\n",
      "Environment Rating: 59.36546293782243\n",
      "Environment Rating: 62.813514699429575\n",
      "Environment Rating: 80.99867812293456\n",
      "Environment Rating: 73.98232202580029\n",
      "Environment Rating: 70.76404943656851\n",
      "Environment Rating: 68.21720915243313\n"
     ]
    }
   ],
   "source": [
    "for i in range(250):\n",
    "    create_data(random.randrange(15,30), random.randrange(5,95), random.randrange(5,95))"
   ]
  },
  {
   "cell_type": "code",
   "execution_count": 10,
   "metadata": {},
   "outputs": [
    {
     "output_type": "execute_result",
     "data": {
      "text/plain": [
       "     Temperature (°C)  Soil Moisture (%)  Humidity (%)  Environment Rating\n",
       "0                21.0               40.0          60.0           96.000000\n",
       "1                17.0               92.0          71.0           58.676991\n",
       "2                24.0               67.0          57.0           73.447448\n",
       "3                27.0               61.0          46.0           64.754390\n",
       "4                29.0               84.0          94.0           48.071688\n",
       "..                ...                ...           ...                 ...\n",
       "246              22.0               66.0          36.0           62.813515\n",
       "247              21.0               49.0          76.0           80.998678\n",
       "248              25.0               30.0          70.0           73.982322\n",
       "249              19.0               65.0          71.0           70.764049\n",
       "250              27.0               67.0          56.0           68.217209\n",
       "\n",
       "[251 rows x 4 columns]"
      ],
      "text/html": "<div>\n<style scoped>\n    .dataframe tbody tr th:only-of-type {\n        vertical-align: middle;\n    }\n\n    .dataframe tbody tr th {\n        vertical-align: top;\n    }\n\n    .dataframe thead th {\n        text-align: right;\n    }\n</style>\n<table border=\"1\" class=\"dataframe\">\n  <thead>\n    <tr style=\"text-align: right;\">\n      <th></th>\n      <th>Temperature (°C)</th>\n      <th>Soil Moisture (%)</th>\n      <th>Humidity (%)</th>\n      <th>Environment Rating</th>\n    </tr>\n  </thead>\n  <tbody>\n    <tr>\n      <th>0</th>\n      <td>21.0</td>\n      <td>40.0</td>\n      <td>60.0</td>\n      <td>96.000000</td>\n    </tr>\n    <tr>\n      <th>1</th>\n      <td>17.0</td>\n      <td>92.0</td>\n      <td>71.0</td>\n      <td>58.676991</td>\n    </tr>\n    <tr>\n      <th>2</th>\n      <td>24.0</td>\n      <td>67.0</td>\n      <td>57.0</td>\n      <td>73.447448</td>\n    </tr>\n    <tr>\n      <th>3</th>\n      <td>27.0</td>\n      <td>61.0</td>\n      <td>46.0</td>\n      <td>64.754390</td>\n    </tr>\n    <tr>\n      <th>4</th>\n      <td>29.0</td>\n      <td>84.0</td>\n      <td>94.0</td>\n      <td>48.071688</td>\n    </tr>\n    <tr>\n      <th>...</th>\n      <td>...</td>\n      <td>...</td>\n      <td>...</td>\n      <td>...</td>\n    </tr>\n    <tr>\n      <th>246</th>\n      <td>22.0</td>\n      <td>66.0</td>\n      <td>36.0</td>\n      <td>62.813515</td>\n    </tr>\n    <tr>\n      <th>247</th>\n      <td>21.0</td>\n      <td>49.0</td>\n      <td>76.0</td>\n      <td>80.998678</td>\n    </tr>\n    <tr>\n      <th>248</th>\n      <td>25.0</td>\n      <td>30.0</td>\n      <td>70.0</td>\n      <td>73.982322</td>\n    </tr>\n    <tr>\n      <th>249</th>\n      <td>19.0</td>\n      <td>65.0</td>\n      <td>71.0</td>\n      <td>70.764049</td>\n    </tr>\n    <tr>\n      <th>250</th>\n      <td>27.0</td>\n      <td>67.0</td>\n      <td>56.0</td>\n      <td>68.217209</td>\n    </tr>\n  </tbody>\n</table>\n<p>251 rows × 4 columns</p>\n</div>"
     },
     "metadata": {},
     "execution_count": 10
    }
   ],
   "source": [
    "df"
   ]
  },
  {
   "cell_type": "code",
   "execution_count": 11,
   "metadata": {},
   "outputs": [],
   "source": [
    "df.to_excel('soil_df2.xlsx')"
   ]
  },
  {
   "cell_type": "code",
   "execution_count": 13,
   "metadata": {},
   "outputs": [],
   "source": [
    "df.to_csv('soil_df2')"
   ]
  }
 ]
}