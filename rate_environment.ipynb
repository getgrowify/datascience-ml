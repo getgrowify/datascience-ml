{
 "metadata": {
  "language_info": {
   "codemirror_mode": {
    "name": "ipython",
    "version": 3
   },
   "file_extension": ".py",
   "mimetype": "text/x-python",
   "name": "python",
   "nbconvert_exporter": "python",
   "pygments_lexer": "ipython3",
   "version": "3.6.12"
  },
  "orig_nbformat": 2,
  "kernelspec": {
   "name": "python3612jvsc74a57bd0fefd83eafc0c2f3c8796de3f6632c2698dc12eafcdd46e5a8c965eb3d21b0b49",
   "display_name": "Python 3.6.12 64-bit ('env0': conda)"
  }
 },
 "nbformat": 4,
 "nbformat_minor": 2,
 "cells": [
  {
   "source": [
    "**Summary**: A random forest regressor was trained on a custom made mock dataset and rates the environment out of 100% based on soil moisture, temperature, and humidity. Accuracy: 92.56%.\n",
    "\n",
    "Used in \"Growify ML Models\" app"
   ],
   "cell_type": "markdown",
   "metadata": {}
  },
  {
   "source": [
    "# Imports"
   ],
   "cell_type": "markdown",
   "metadata": {}
  },
  {
   "cell_type": "code",
   "execution_count": 1,
   "metadata": {},
   "outputs": [],
   "source": [
    "import pandas as pd \n",
    "import matplotlib.pyplot as plt \n",
    "from sklearn.model_selection import train_test_split\n",
    "from sklearn.ensemble import RandomForestRegressor\n",
    "from sklearn.metrics import accuracy_score\n",
    "from joblib import dump"
   ]
  },
  {
   "source": [
    "# Read/Organize Data"
   ],
   "cell_type": "markdown",
   "metadata": {}
  },
  {
   "cell_type": "code",
   "execution_count": 2,
   "metadata": {},
   "outputs": [],
   "source": [
    "df = pd.read_csv('mock_data_creation/data/soil_df2')"
   ]
  },
  {
   "cell_type": "code",
   "execution_count": 3,
   "metadata": {},
   "outputs": [],
   "source": [
    "df_X = df.drop(columns=['Environment Rating', 'Unnamed: 0'])"
   ]
  },
  {
   "cell_type": "code",
   "execution_count": 4,
   "metadata": {},
   "outputs": [],
   "source": [
    "df_Y = df['Environment Rating']"
   ]
  },
  {
   "cell_type": "code",
   "execution_count": 5,
   "metadata": {},
   "outputs": [
    {
     "output_type": "execute_result",
     "data": {
      "text/plain": [
       "     Temperature (°C)  Soil Moisture (%)  Humidity (%)\n",
       "0                21.0               40.0          60.0\n",
       "1                17.0               92.0          71.0\n",
       "2                24.0               67.0          57.0\n",
       "3                27.0               61.0          46.0\n",
       "4                29.0               84.0          94.0\n",
       "..                ...                ...           ...\n",
       "246              22.0               66.0          36.0\n",
       "247              21.0               49.0          76.0\n",
       "248              25.0               30.0          70.0\n",
       "249              19.0               65.0          71.0\n",
       "250              27.0               67.0          56.0\n",
       "\n",
       "[251 rows x 3 columns]"
      ],
      "text/html": "<div>\n<style scoped>\n    .dataframe tbody tr th:only-of-type {\n        vertical-align: middle;\n    }\n\n    .dataframe tbody tr th {\n        vertical-align: top;\n    }\n\n    .dataframe thead th {\n        text-align: right;\n    }\n</style>\n<table border=\"1\" class=\"dataframe\">\n  <thead>\n    <tr style=\"text-align: right;\">\n      <th></th>\n      <th>Temperature (°C)</th>\n      <th>Soil Moisture (%)</th>\n      <th>Humidity (%)</th>\n    </tr>\n  </thead>\n  <tbody>\n    <tr>\n      <th>0</th>\n      <td>21.0</td>\n      <td>40.0</td>\n      <td>60.0</td>\n    </tr>\n    <tr>\n      <th>1</th>\n      <td>17.0</td>\n      <td>92.0</td>\n      <td>71.0</td>\n    </tr>\n    <tr>\n      <th>2</th>\n      <td>24.0</td>\n      <td>67.0</td>\n      <td>57.0</td>\n    </tr>\n    <tr>\n      <th>3</th>\n      <td>27.0</td>\n      <td>61.0</td>\n      <td>46.0</td>\n    </tr>\n    <tr>\n      <th>4</th>\n      <td>29.0</td>\n      <td>84.0</td>\n      <td>94.0</td>\n    </tr>\n    <tr>\n      <th>...</th>\n      <td>...</td>\n      <td>...</td>\n      <td>...</td>\n    </tr>\n    <tr>\n      <th>246</th>\n      <td>22.0</td>\n      <td>66.0</td>\n      <td>36.0</td>\n    </tr>\n    <tr>\n      <th>247</th>\n      <td>21.0</td>\n      <td>49.0</td>\n      <td>76.0</td>\n    </tr>\n    <tr>\n      <th>248</th>\n      <td>25.0</td>\n      <td>30.0</td>\n      <td>70.0</td>\n    </tr>\n    <tr>\n      <th>249</th>\n      <td>19.0</td>\n      <td>65.0</td>\n      <td>71.0</td>\n    </tr>\n    <tr>\n      <th>250</th>\n      <td>27.0</td>\n      <td>67.0</td>\n      <td>56.0</td>\n    </tr>\n  </tbody>\n</table>\n<p>251 rows × 3 columns</p>\n</div>"
     },
     "metadata": {},
     "execution_count": 5
    }
   ],
   "source": [
    "df_X"
   ]
  },
  {
   "cell_type": "code",
   "execution_count": 6,
   "metadata": {},
   "outputs": [
    {
     "output_type": "execute_result",
     "data": {
      "text/plain": [
       "0      96.000000\n",
       "1      58.676991\n",
       "2      73.447448\n",
       "3      64.754390\n",
       "4      48.071688\n",
       "         ...    \n",
       "246    62.813515\n",
       "247    80.998678\n",
       "248    73.982322\n",
       "249    70.764049\n",
       "250    68.217209\n",
       "Name: Environment Rating, Length: 251, dtype: float64"
      ]
     },
     "metadata": {},
     "execution_count": 6
    }
   ],
   "source": [
    "df_Y"
   ]
  },
  {
   "cell_type": "code",
   "execution_count": 7,
   "metadata": {},
   "outputs": [],
   "source": [
    "X_train, X_test, y_train, y_test = train_test_split(df_X, df_Y, test_size = 0.20)"
   ]
  },
  {
   "cell_type": "code",
   "execution_count": 8,
   "metadata": {},
   "outputs": [
    {
     "output_type": "execute_result",
     "data": {
      "text/plain": [
       "(200, 3)"
      ]
     },
     "metadata": {},
     "execution_count": 8
    }
   ],
   "source": [
    "X_train.shape"
   ]
  },
  {
   "cell_type": "code",
   "execution_count": 9,
   "metadata": {},
   "outputs": [
    {
     "output_type": "execute_result",
     "data": {
      "text/plain": [
       "(200,)"
      ]
     },
     "metadata": {},
     "execution_count": 9
    }
   ],
   "source": [
    "y_train.shape"
   ]
  },
  {
   "cell_type": "code",
   "execution_count": 10,
   "metadata": {},
   "outputs": [
    {
     "output_type": "execute_result",
     "data": {
      "text/plain": [
       "(51, 3)"
      ]
     },
     "metadata": {},
     "execution_count": 10
    }
   ],
   "source": [
    "X_test.shape"
   ]
  },
  {
   "cell_type": "code",
   "execution_count": 11,
   "metadata": {},
   "outputs": [
    {
     "output_type": "execute_result",
     "data": {
      "text/plain": [
       "(51,)"
      ]
     },
     "metadata": {},
     "execution_count": 11
    }
   ],
   "source": [
    "y_test.shape"
   ]
  },
  {
   "source": [
    "# Build Random Forest Regressor Model"
   ],
   "cell_type": "markdown",
   "metadata": {}
  },
  {
   "cell_type": "code",
   "execution_count": 12,
   "metadata": {},
   "outputs": [],
   "source": [
    "model = RandomForestRegressor()"
   ]
  },
  {
   "cell_type": "code",
   "execution_count": 13,
   "metadata": {},
   "outputs": [
    {
     "output_type": "execute_result",
     "data": {
      "text/plain": [
       "RandomForestRegressor()"
      ]
     },
     "metadata": {},
     "execution_count": 13
    }
   ],
   "source": [
    "model.fit(X_train, y_train)"
   ]
  },
  {
   "source": [
    "# Get Metrics and Save Model"
   ],
   "cell_type": "markdown",
   "metadata": {}
  },
  {
   "cell_type": "code",
   "execution_count": 14,
   "metadata": {},
   "outputs": [],
   "source": [
    "predictions_data = model.predict(X_test)"
   ]
  },
  {
   "cell_type": "code",
   "execution_count": 15,
   "metadata": {},
   "outputs": [
    {
     "output_type": "execute_result",
     "data": {
      "text/plain": [
       "'92.56313288410517%'"
      ]
     },
     "metadata": {},
     "execution_count": 15
    }
   ],
   "source": [
    "accuracy = str(model.score(X_test, y_test)*100) + '%'\n",
    "accuracy"
   ]
  },
  {
   "cell_type": "code",
   "execution_count": 16,
   "metadata": {},
   "outputs": [],
   "source": [
    "def predict(temp, soil, hum):\n",
    "    prediction = model.predict([[temp, soil, hum]])\n",
    "    print('Environment Rating: ' + str(round(prediction[0], 2)) + '%')\n",
    "    if (prediction <= 60):\n",
    "        print('Not viable...')"
   ]
  },
  {
   "cell_type": "code",
   "execution_count": 17,
   "metadata": {},
   "outputs": [
    {
     "output_type": "stream",
     "name": "stdout",
     "text": [
      "Environment Rating: 85.44%\n"
     ]
    }
   ],
   "source": [
    "predict(temp=21, soil=40, hum=50)"
   ]
  },
  {
   "cell_type": "code",
   "execution_count": 18,
   "metadata": {},
   "outputs": [
    {
     "output_type": "stream",
     "name": "stdout",
     "text": [
      "Environment Rating: 58.69%\nNot viable...\n"
     ]
    }
   ],
   "source": [
    "predict(temp=35, soil=20, hum=80)"
   ]
  },
  {
   "cell_type": "code",
   "execution_count": 19,
   "metadata": {},
   "outputs": [
    {
     "output_type": "stream",
     "name": "stdout",
     "text": [
      "Environment Rating: 90.85%\n"
     ]
    }
   ],
   "source": [
    "predict(temp=21, soil=40, hum=60)"
   ]
  },
  {
   "cell_type": "code",
   "execution_count": 20,
   "metadata": {},
   "outputs": [
    {
     "output_type": "stream",
     "name": "stdout",
     "text": [
      "Environment Rating: 48.5%\nNot viable...\n"
     ]
    }
   ],
   "source": [
    "predict(temp=15, soil=20, hum=30)"
   ]
  },
  {
   "cell_type": "code",
   "execution_count": 21,
   "metadata": {},
   "outputs": [
    {
     "output_type": "stream",
     "name": "stdout",
     "text": [
      "Environment Rating: 52.97%\nNot viable...\n"
     ]
    }
   ],
   "source": [
    "predict(temp=40, soil=100, hum=100)"
   ]
  },
  {
   "cell_type": "code",
   "execution_count": 23,
   "metadata": {},
   "outputs": [
    {
     "output_type": "stream",
     "name": "stdout",
     "text": [
      "Environment Rating: 84.63%\n"
     ]
    }
   ],
   "source": [
    "predict(temp=18, soil=40, hum=55)"
   ]
  },
  {
   "cell_type": "code",
   "execution_count": 22,
   "metadata": {},
   "outputs": [
    {
     "output_type": "execute_result",
     "data": {
      "text/plain": [
       "['crop_outlook_rfg1.joblib']"
      ]
     },
     "metadata": {},
     "execution_count": 22
    }
   ],
   "source": [
    "dump(model, 'crop_outlook_rfg1.joblib') "
   ]
  }
 ]
}